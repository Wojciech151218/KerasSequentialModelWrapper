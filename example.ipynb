{
 "cells": [
  {
   "metadata": {
    "ExecuteTime": {
     "end_time": "2025-03-25T15:53:21.375953Z",
     "start_time": "2025-03-25T15:53:17.532094Z"
    }
   },
   "cell_type": "code",
   "source": [
    "from keras.src.utils import to_categorical\n",
    "\n",
    "from hyperparamaters import TrainHyperparameters, ArchitectureHyperparameters\n",
    "from model_builder import ModelBuilder\n",
    "import tensorflow as tf\n"
   ],
   "id": "f26a2c2b98937476",
   "outputs": [
    {
     "name": "stderr",
     "output_type": "stream",
     "text": [
      "2025-03-25 15:53:17.896693: I external/local_xla/xla/tsl/cuda/cudart_stub.cc:32] Could not find cuda drivers on your machine, GPU will not be used.\n",
      "2025-03-25 15:53:17.900515: I external/local_xla/xla/tsl/cuda/cudart_stub.cc:32] Could not find cuda drivers on your machine, GPU will not be used.\n",
      "2025-03-25 15:53:17.913140: E external/local_xla/xla/stream_executor/cuda/cuda_fft.cc:467] Unable to register cuFFT factory: Attempting to register factory for plugin cuFFT when one has already been registered\n",
      "WARNING: All log messages before absl::InitializeLog() is called are written to STDERR\n",
      "E0000 00:00:1742917997.934862    6788 cuda_dnn.cc:8579] Unable to register cuDNN factory: Attempting to register factory for plugin cuDNN when one has already been registered\n",
      "E0000 00:00:1742917997.941326    6788 cuda_blas.cc:1407] Unable to register cuBLAS factory: Attempting to register factory for plugin cuBLAS when one has already been registered\n",
      "W0000 00:00:1742917997.957544    6788 computation_placer.cc:177] computation placer already registered. Please check linkage and avoid linking the same target more than once.\n",
      "W0000 00:00:1742917997.957571    6788 computation_placer.cc:177] computation placer already registered. Please check linkage and avoid linking the same target more than once.\n",
      "W0000 00:00:1742917997.957574    6788 computation_placer.cc:177] computation placer already registered. Please check linkage and avoid linking the same target more than once.\n",
      "W0000 00:00:1742917997.957576    6788 computation_placer.cc:177] computation placer already registered. Please check linkage and avoid linking the same target more than once.\n"
     ]
    }
   ],
   "execution_count": 1
  },
  {
   "metadata": {
    "ExecuteTime": {
     "end_time": "2025-03-25T15:53:29.949646Z",
     "start_time": "2025-03-25T15:53:29.936458Z"
    }
   },
   "cell_type": "code",
   "source": [
    "class MyModelBuilder(ModelBuilder):\n",
    "    def model_building_function(self, callbacks=None) -> tf.keras.Model:\n",
    "        classes = self.model_trainer.get_classes()\n",
    "\n",
    "        flatten_layer = tf.keras.layers.Flatten(input_shape=self.model_trainer.get_input_shape())\n",
    "        layers = [flatten_layer]\n",
    "\n",
    "        for i in range(self.architecture_hp.layer_count):\n",
    "            layers.append(tf.keras.layers.Dense(\n",
    "                self.architecture_hp.layer_count,\n",
    "                activation=self.architecture_hp.activation_function)\n",
    "            )\n",
    "        layers.append(tf.keras.layers.Dense(classes, activation='softmax'))\n",
    "\n",
    "        model = tf.keras.models.Sequential(layers)\n",
    "        return model\n",
    "\n",
    "    @staticmethod\n",
    "    def data_function(data_function = None):\n",
    "        (x_train, y_train), (x_test, y_test) = tf.keras.datasets.mnist.load_data()\n",
    "        return (x_train, to_categorical(y_train)), (x_test, to_categorical(y_test))\n"
   ],
   "id": "e29d4710a434234d",
   "outputs": [],
   "execution_count": 3
  },
  {
   "metadata": {
    "ExecuteTime": {
     "end_time": "2025-03-25T16:13:31.034798Z",
     "start_time": "2025-03-25T16:12:43.581566Z"
    }
   },
   "cell_type": "code",
   "source": [
    "train_hp = TrainHyperparameters(\n",
    "        epochs=10,\n",
    "    )\n",
    "architecture_hp = ArchitectureHyperparameters(\n",
    "        neurons_per_layer_count= 50,\n",
    "        layer_count= 5,\n",
    "        activation_function=\"relu\"\n",
    "    )\n",
    "model_builder = (MyModelBuilder()\n",
    "                     .set_hyper_parameters(architecture_hp,train_hp)\n",
    "                     .set_model_trainer()\n",
    "                     )\n",
    "model = model_builder.build_model()"
   ],
   "id": "9eacdfbc0eace876",
   "outputs": [
    {
     "name": "stdout",
     "output_type": "stream",
     "text": [
      "Epoch 1/10\n"
     ]
    },
    {
     "name": "stderr",
     "output_type": "stream",
     "text": [
      "/home/wojtek/PycharmProjects/tf_dl/.venv/lib/python3.11/site-packages/keras/src/layers/reshaping/flatten.py:37: UserWarning: Do not pass an `input_shape`/`input_dim` argument to a layer. When using Sequential models, prefer using an `Input(shape)` object as the first layer in the model instead.\n",
      "  super().__init__(**kwargs)\n"
     ]
    },
    {
     "name": "stdout",
     "output_type": "stream",
     "text": [
      "\u001B[1m1875/1875\u001B[0m \u001B[32m━━━━━━━━━━━━━━━━━━━━\u001B[0m\u001B[37m\u001B[0m \u001B[1m5s\u001B[0m 2ms/step - accuracy: 0.1592 - loss: 2.2070 - val_accuracy: 0.3716 - val_loss: 1.5059\n",
      "Epoch 2/10\n",
      "\u001B[1m1875/1875\u001B[0m \u001B[32m━━━━━━━━━━━━━━━━━━━━\u001B[0m\u001B[37m\u001B[0m \u001B[1m4s\u001B[0m 2ms/step - accuracy: 0.4358 - loss: 1.3976 - val_accuracy: 0.6370 - val_loss: 1.0479\n",
      "Epoch 3/10\n",
      "\u001B[1m1875/1875\u001B[0m \u001B[32m━━━━━━━━━━━━━━━━━━━━\u001B[0m\u001B[37m\u001B[0m \u001B[1m4s\u001B[0m 2ms/step - accuracy: 0.6452 - loss: 1.0402 - val_accuracy: 0.6809 - val_loss: 0.9473\n",
      "Epoch 4/10\n",
      "\u001B[1m1875/1875\u001B[0m \u001B[32m━━━━━━━━━━━━━━━━━━━━\u001B[0m\u001B[37m\u001B[0m \u001B[1m4s\u001B[0m 2ms/step - accuracy: 0.7101 - loss: 0.8977 - val_accuracy: 0.7272 - val_loss: 0.8363\n",
      "Epoch 5/10\n",
      "\u001B[1m1875/1875\u001B[0m \u001B[32m━━━━━━━━━━━━━━━━━━━━\u001B[0m\u001B[37m\u001B[0m \u001B[1m5s\u001B[0m 2ms/step - accuracy: 0.7247 - loss: 0.8363 - val_accuracy: 0.7374 - val_loss: 0.8211\n",
      "Epoch 6/10\n",
      "\u001B[1m1875/1875\u001B[0m \u001B[32m━━━━━━━━━━━━━━━━━━━━\u001B[0m\u001B[37m\u001B[0m \u001B[1m5s\u001B[0m 2ms/step - accuracy: 0.7323 - loss: 0.8164 - val_accuracy: 0.7407 - val_loss: 0.7930\n",
      "Epoch 7/10\n",
      "\u001B[1m1875/1875\u001B[0m \u001B[32m━━━━━━━━━━━━━━━━━━━━\u001B[0m\u001B[37m\u001B[0m \u001B[1m5s\u001B[0m 2ms/step - accuracy: 0.7409 - loss: 0.7863 - val_accuracy: 0.7602 - val_loss: 0.7780\n",
      "Epoch 8/10\n",
      "\u001B[1m1875/1875\u001B[0m \u001B[32m━━━━━━━━━━━━━━━━━━━━\u001B[0m\u001B[37m\u001B[0m \u001B[1m4s\u001B[0m 2ms/step - accuracy: 0.7604 - loss: 0.7648 - val_accuracy: 0.7532 - val_loss: 0.7956\n",
      "Epoch 9/10\n",
      "\u001B[1m1875/1875\u001B[0m \u001B[32m━━━━━━━━━━━━━━━━━━━━\u001B[0m\u001B[37m\u001B[0m \u001B[1m5s\u001B[0m 2ms/step - accuracy: 0.7613 - loss: 0.7581 - val_accuracy: 0.7659 - val_loss: 0.7613\n",
      "Epoch 10/10\n",
      "\u001B[1m1875/1875\u001B[0m \u001B[32m━━━━━━━━━━━━━━━━━━━━\u001B[0m\u001B[37m\u001B[0m \u001B[1m5s\u001B[0m 2ms/step - accuracy: 0.7643 - loss: 0.7413 - val_accuracy: 0.7688 - val_loss: 0.7555\n"
     ]
    }
   ],
   "execution_count": 30
  },
  {
   "metadata": {
    "collapsed": true,
    "ExecuteTime": {
     "end_time": "2025-03-25T15:53:24.534606Z",
     "start_time": "2025-03-25T15:53:24.529374Z"
    }
   },
   "cell_type": "code",
   "outputs": [],
   "execution_count": 2,
   "source": [
    "import matplotlib.pyplot as plt\n",
    "\n",
    "def plot_digit(image, label=None):\n",
    "    plt.imshow(image, cmap=\"gray\")  # Plot in grayscale\n",
    "    title = f\"Digit: {label}\" if label is not None else \"Digit\"\n",
    "    plt.title(title)\n",
    "    plt.axis(\"off\")  # Hide axes\n",
    "    plt.show()\n"
   ],
   "id": "initial_id"
  },
  {
   "metadata": {
    "ExecuteTime": {
     "end_time": "2025-03-25T16:37:26.211299Z",
     "start_time": "2025-03-25T16:37:26.061252Z"
    }
   },
   "cell_type": "code",
   "source": [
    "import numpy as np\n",
    "x_test, y_test = model_builder.get_test_set()\n",
    "sample_index = 2137\n",
    "sample_x = tf.expand_dims(x_test[sample_index], axis=0)\n",
    "sample_y = tf.expand_dims(y_test[sample_index], axis=0)\n",
    "\n",
    "prediction = model.predict(sample_x)\n",
    "np.set_printoptions(formatter={'float': '{:.3f}'.format})\n",
    "\n",
    "print(prediction)\n",
    "plot_digit(\n",
    "    x_test[sample_index],\n",
    "    np.argmax(y_test[sample_index])\n",
    ")"
   ],
   "id": "f8dfa59364a9aad3",
   "outputs": [
    {
     "name": "stdout",
     "output_type": "stream",
     "text": [
      "\u001B[1m1/1\u001B[0m \u001B[32m━━━━━━━━━━━━━━━━━━━━\u001B[0m\u001B[37m\u001B[0m \u001B[1m0s\u001B[0m 33ms/step\n",
      "[[0.000 1.000 0.000 0.000 0.000 0.000 0.000 0.000 0.000 0.000]]\n"
     ]
    },
    {
     "data": {
      "text/plain": [
       "<Figure size 640x480 with 1 Axes>"
      ],
      "image/png": "[encoded data removed]"
     },
     "metadata": {},
     "output_type": "display_data"
    }
   ],
   "execution_count": 39
  }
 ],
 "metadata": {
  "kernelspec": {
   "display_name": "Python 3",
   "language": "python",
   "name": "python3"
  },
  "language_info": {
   "codemirror_mode": {
    "name": "ipython",
    "version": 2
   },
   "file_extension": ".py",
   "mimetype": "text/x-python",
   "name": "python",
   "nbconvert_exporter": "python",
   "pygments_lexer": "ipython2",
   "version": "2.7.6"
  }
 },
 "nbformat": 4,
 "nbformat_minor": 5
}
