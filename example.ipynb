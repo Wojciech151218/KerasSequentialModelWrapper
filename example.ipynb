{
 "cells": [
  {
   "metadata": {},
   "cell_type": "code",
   "source": [
    "from keras.src.utils import to_categorical\n",
    "\n",
    "from hyperparamaters import TrainHyperparameters, ArchitectureHyperparameters\n",
    "from model_builder import ModelBuilder\n",
    "import tensorflow as tf\n"
   ],
   "id": "f26a2c2b98937476",
   "outputs": [],
   "execution_count": null
  },
  {
   "metadata": {
    "ExecuteTime": {
     "end_time": "2025-03-25T15:53:29.949646Z",
     "start_time": "2025-03-25T15:53:29.936458Z"
    }
   },
   "cell_type": "code",
   "source": [
    "class MyModelBuilder(ModelBuilder):\n",
    "    def model_building_function(self, callbacks=None) -> tf.keras.Model:\n",
    "        classes = self.model_trainer.get_classes()\n",
    "\n",
    "        flatten_layer = tf.keras.layers.Flatten(input_shape=self.model_trainer.get_input_shape())\n",
    "        layers = [flatten_layer]\n",
    "\n",
    "        for i in range(self.architecture_hp.layer_count):\n",
    "            layers.append(tf.keras.layers.Dense(\n",
    "                self.architecture_hp.layer_count,\n",
    "                activation=self.architecture_hp.activation_function)\n",
    "            )\n",
    "        layers.append(tf.keras.layers.Dense(classes, activation='softmax'))\n",
    "\n",
    "        model = tf.keras.models.Sequential(layers)\n",
    "        return model\n",
    "\n",
    "    @staticmethod\n",
    "    def data_function(data_function = None):\n",
    "        (x_train, y_train), (x_test, y_test) = tf.keras.datasets.mnist.load_data()\n",
    "        return (x_train, to_categorical(y_train)), (x_test, to_categorical(y_test))\n"
   ],
   "id": "e29d4710a434234d",
   "outputs": [],
   "execution_count": 3
  },
  {
   "metadata": {},
   "cell_type": "code",
   "source": [
    "train_hp = TrainHyperparameters(\n",
    "        epochs=10,\n",
    "    )\n",
    "architecture_hp = ArchitectureHyperparameters(\n",
    "        neurons_per_layer_count= 50,\n",
    "        layer_count= 5,\n",
    "        activation_function=\"relu\"\n",
    "    )\n",
    "model_builder = (MyModelBuilder()\n",
    "                     .set_hyper_parameters(architecture_hp,train_hp)\n",
    "                     .set_model_trainer()\n",
    "                     )\n",
    "model = model_builder.build_model()"
   ],
   "id": "9eacdfbc0eace876",
   "outputs": [],
   "execution_count": null
  },
  {
   "metadata": {
    "collapsed": true,
    "ExecuteTime": {
     "end_time": "2025-03-25T15:53:24.534606Z",
     "start_time": "2025-03-25T15:53:24.529374Z"
    }
   },
   "cell_type": "code",
   "outputs": [],
   "execution_count": 2,
   "source": [
    "import matplotlib.pyplot as plt\n",
    "\n",
    "def plot_digit(image, label=None):\n",
    "    plt.imshow(image, cmap=\"gray\")  # Plot in grayscale\n",
    "    title = f\"Digit: {label}\" if label is not None else \"Digit\"\n",
    "    plt.title(title)\n",
    "    plt.axis(\"off\")  # Hide axes\n",
    "    plt.show()\n"
   ],
   "id": "initial_id"
  },
  {
   "metadata": {
    "ExecuteTime": {
     "end_time": "2025-03-25T16:37:26.211299Z",
     "start_time": "2025-03-25T16:37:26.061252Z"
    }
   },
   "cell_type": "code",
   "source": [
    "import numpy as np\n",
    "x_test, y_test = model_builder.get_test_set()\n",
    "sample_index = 2137\n",
    "sample_x = tf.expand_dims(x_test[sample_index], axis=0)\n",
    "sample_y = tf.expand_dims(y_test[sample_index], axis=0)\n",
    "\n",
    "prediction = model.predict(sample_x)\n",
    "np.set_printoptions(formatter={'float': '{:.3f}'.format})\n",
    "\n",
    "print(prediction)\n",
    "plot_digit(\n",
    "    x_test[sample_index],\n",
    "    np.argmax(y_test[sample_index])\n",
    ")"
   ],
   "id": "f8dfa59364a9aad3",
   "outputs": [
    {
     "name": "stdout",
     "output_type": "stream",
     "text": [
      "\u001B[1m1/1\u001B[0m \u001B[32m━━━━━━━━━━━━━━━━━━━━\u001B[0m\u001B[37m\u001B[0m \u001B[1m0s\u001B[0m 33ms/step\n",
      "[[0.000 1.000 0.000 0.000 0.000 0.000 0.000 0.000 0.000 0.000]]\n"
     ]
    },
    {
     "data": {
      "text/plain": [
       "<Figure size 640x480 with 1 Axes>"
      ],
      "image/png": "[encoded data removed]"
     },
     "metadata": {},
     "output_type": "display_data"
    }
   ],
   "execution_count": 39
  }
 ],
 "metadata": {
  "kernelspec": {
   "display_name": "Python 3",
   "language": "python",
   "name": "python3"
  },
  "language_info": {
   "codemirror_mode": {
    "name": "ipython",
    "version": 2
   },
   "file_extension": ".py",
   "mimetype": "text/x-python",
   "name": "python",
   "nbconvert_exporter": "python",
   "pygments_lexer": "ipython2",
   "version": "2.7.6"
  }
 },
 "nbformat": 4,
 "nbformat_minor": 5
}
